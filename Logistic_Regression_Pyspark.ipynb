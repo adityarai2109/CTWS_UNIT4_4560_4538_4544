{
  "cells": [
    {
      "cell_type": "code",
      "execution_count": 1,
      "metadata": {
        "colab": {
          "base_uri": "https://localhost:8080/"
        },
        "id": "i0LSc6ONpYdX",
        "outputId": "eb3319f3-ae5d-4ac9-83fc-a41832fa951d"
      },
      "outputs": [
        {
          "output_type": "stream",
          "name": "stdout",
          "text": [
            "Collecting pyspark\n",
            "  Downloading pyspark-3.2.1.tar.gz (281.4 MB)\n",
            "\u001b[K     |████████████████████████████████| 281.4 MB 34 kB/s \n",
            "\u001b[?25hCollecting py4j==0.10.9.3\n",
            "  Downloading py4j-0.10.9.3-py2.py3-none-any.whl (198 kB)\n",
            "\u001b[K     |████████████████████████████████| 198 kB 51.0 MB/s \n",
            "\u001b[?25hBuilding wheels for collected packages: pyspark\n",
            "  Building wheel for pyspark (setup.py) ... \u001b[?25l\u001b[?25hdone\n",
            "  Created wheel for pyspark: filename=pyspark-3.2.1-py2.py3-none-any.whl size=281853642 sha256=b61f5e05253008ac20e094d5f1239b64d791b3a4b5e13e8bb3e55fb21fc1b44b\n",
            "  Stored in directory: /root/.cache/pip/wheels/9f/f5/07/7cd8017084dce4e93e84e92efd1e1d5334db05f2e83bcef74f\n",
            "Successfully built pyspark\n",
            "Installing collected packages: py4j, pyspark\n",
            "Successfully installed py4j-0.10.9.3 pyspark-3.2.1\n"
          ]
        }
      ],
      "source": [
        "!pip install pyspark"
      ]
    },
    {
      "cell_type": "code",
      "execution_count": 2,
      "metadata": {
        "id": "-NTTC3fZpmtO"
      },
      "outputs": [],
      "source": [
        "#import SparkSession\n",
        "from pyspark.sql import SparkSession\n",
        "spark=SparkSession.builder.appName('log_reg').getOrCreate()"
      ]
    },
    {
      "cell_type": "code",
      "execution_count": 3,
      "metadata": {
        "id": "k8uR6TompYda"
      },
      "outputs": [],
      "source": [
        "#read the dataset\n",
        "# import pandas as pd\n",
        "df=spark.read.csv('Log_Reg_dataset.csv',inferSchema=True,header=True)"
      ]
    },
    {
      "cell_type": "code",
      "execution_count": 4,
      "metadata": {
        "id": "nL-4UZXUpYdc"
      },
      "outputs": [],
      "source": [
        "from pyspark.sql.functions import *\n"
      ]
    },
    {
      "cell_type": "code",
      "execution_count": 5,
      "metadata": {
        "colab": {
          "base_uri": "https://localhost:8080/"
        },
        "id": "MXnmxTM7pYdd",
        "outputId": "74a3487a-385f-4ec8-d8c0-b8e3d3284ebc"
      },
      "outputs": [
        {
          "output_type": "stream",
          "name": "stdout",
          "text": [
            "(20000, 6)\n"
          ]
        }
      ],
      "source": [
        "#check the shape of the data \n",
        "print((df.count(),len(df.columns)))"
      ]
    },
    {
      "cell_type": "code",
      "execution_count": 6,
      "metadata": {
        "colab": {
          "base_uri": "https://localhost:8080/"
        },
        "id": "r9lQ5a1XpYde",
        "outputId": "9fcd5574-e02a-456f-d1e5-1d17e71b278f"
      },
      "outputs": [
        {
          "output_type": "stream",
          "name": "stdout",
          "text": [
            "root\n",
            " |-- Country: string (nullable = true)\n",
            " |-- Age: integer (nullable = true)\n",
            " |-- Repeat_Visitor: integer (nullable = true)\n",
            " |-- Platform: string (nullable = true)\n",
            " |-- Web_pages_viewed: integer (nullable = true)\n",
            " |-- Status: integer (nullable = true)\n",
            "\n"
          ]
        }
      ],
      "source": [
        "#printSchema\n",
        "df.printSchema()"
      ]
    },
    {
      "cell_type": "code",
      "execution_count": 7,
      "metadata": {
        "colab": {
          "base_uri": "https://localhost:8080/"
        },
        "id": "j2DeGg7dpYdf",
        "outputId": "06a6e479-a168-4a4d-b23f-1757fc3a030f"
      },
      "outputs": [
        {
          "output_type": "execute_result",
          "data": {
            "text/plain": [
              "['Country', 'Age', 'Repeat_Visitor', 'Platform', 'Web_pages_viewed', 'Status']"
            ]
          },
          "metadata": {},
          "execution_count": 7
        }
      ],
      "source": [
        "#number of columns in dataset\n",
        "df.columns"
      ]
    },
    {
      "cell_type": "code",
      "execution_count": 8,
      "metadata": {
        "colab": {
          "base_uri": "https://localhost:8080/"
        },
        "id": "eUovF9v0pYdg",
        "outputId": "fbd5b72c-94a9-4987-c854-b30525783489"
      },
      "outputs": [
        {
          "output_type": "stream",
          "name": "stdout",
          "text": [
            "+---------+---+--------------+--------+----------------+------+\n",
            "|  Country|Age|Repeat_Visitor|Platform|Web_pages_viewed|Status|\n",
            "+---------+---+--------------+--------+----------------+------+\n",
            "|    India| 41|             1|   Yahoo|              21|     1|\n",
            "|   Brazil| 28|             1|   Yahoo|               5|     0|\n",
            "|   Brazil| 40|             0|  Google|               3|     0|\n",
            "|Indonesia| 31|             1|    Bing|              15|     1|\n",
            "| Malaysia| 32|             0|  Google|              15|     1|\n",
            "+---------+---+--------------+--------+----------------+------+\n",
            "only showing top 5 rows\n",
            "\n"
          ]
        }
      ],
      "source": [
        "#view the dataset\n",
        "df.show(5)"
      ]
    },
    {
      "cell_type": "code",
      "execution_count": 9,
      "metadata": {
        "colab": {
          "base_uri": "https://localhost:8080/"
        },
        "id": "t61623wYpYdi",
        "outputId": "b29aa0a7-7cab-4b10-eb2e-0085d273db66"
      },
      "outputs": [
        {
          "output_type": "stream",
          "name": "stdout",
          "text": [
            "+-------+--------+-----------------+-----------------+--------+-----------------+------------------+\n",
            "|summary| Country|              Age|   Repeat_Visitor|Platform| Web_pages_viewed|            Status|\n",
            "+-------+--------+-----------------+-----------------+--------+-----------------+------------------+\n",
            "|  count|   20000|            20000|            20000|   20000|            20000|             20000|\n",
            "|   mean|    null|         28.53955|           0.5029|    null|           9.5533|               0.5|\n",
            "| stddev|    null|7.888912950773227|0.500004090187782|    null|6.073903499824976|0.5000125004687693|\n",
            "|    min|  Brazil|               17|                0|    Bing|                1|                 0|\n",
            "|    max|Malaysia|              111|                1|   Yahoo|               29|                 1|\n",
            "+-------+--------+-----------------+-----------------+--------+-----------------+------------------+\n",
            "\n"
          ]
        }
      ],
      "source": [
        "#Exploratory Data Analysis\n",
        "df.describe().show()\n"
      ]
    },
    {
      "cell_type": "code",
      "execution_count": 10,
      "metadata": {
        "colab": {
          "base_uri": "https://localhost:8080/"
        },
        "id": "nIXk4inhpYdj",
        "outputId": "72aa8546-6c4b-4426-f3c5-8c14a5e205dd"
      },
      "outputs": [
        {
          "output_type": "stream",
          "name": "stdout",
          "text": [
            "+---------+-----+\n",
            "|  Country|count|\n",
            "+---------+-----+\n",
            "| Malaysia| 1218|\n",
            "|    India| 4018|\n",
            "|Indonesia|12178|\n",
            "|   Brazil| 2586|\n",
            "+---------+-----+\n",
            "\n"
          ]
        }
      ],
      "source": [
        "df.groupBy('Country').count().show()"
      ]
    },
    {
      "cell_type": "code",
      "execution_count": 11,
      "metadata": {
        "colab": {
          "base_uri": "https://localhost:8080/"
        },
        "id": "mX8zPkclpYdk",
        "outputId": "4e3da62a-c050-48b5-c83d-2faa8092dc94"
      },
      "outputs": [
        {
          "output_type": "stream",
          "name": "stdout",
          "text": [
            "+--------+-----+\n",
            "|Platform|count|\n",
            "+--------+-----+\n",
            "|   Yahoo| 9859|\n",
            "|    Bing| 4360|\n",
            "|  Google| 5781|\n",
            "+--------+-----+\n",
            "\n"
          ]
        }
      ],
      "source": [
        "df.groupBy('Platform').count().show()"
      ]
    },
    {
      "cell_type": "code",
      "execution_count": 12,
      "metadata": {
        "colab": {
          "base_uri": "https://localhost:8080/"
        },
        "id": "Aif6PYQupYdm",
        "outputId": "b3bd5711-7a3e-4604-c6a8-c5f0e83b951c"
      },
      "outputs": [
        {
          "output_type": "stream",
          "name": "stdout",
          "text": [
            "+------+-----+\n",
            "|Status|count|\n",
            "+------+-----+\n",
            "|     1|10000|\n",
            "|     0|10000|\n",
            "+------+-----+\n",
            "\n"
          ]
        }
      ],
      "source": [
        "df.groupBy('Status').count().show()"
      ]
    },
    {
      "cell_type": "code",
      "execution_count": 13,
      "metadata": {
        "colab": {
          "base_uri": "https://localhost:8080/"
        },
        "id": "jGN3YNRCpYdm",
        "outputId": "d0a74e9e-2a9d-41ab-da5c-d4c026c6b940",
        "scrolled": true
      },
      "outputs": [
        {
          "output_type": "stream",
          "name": "stdout",
          "text": [
            "+---------+------------------+-------------------+---------------------+--------------------+\n",
            "|  Country|          avg(Age)|avg(Repeat_Visitor)|avg(Web_pages_viewed)|         avg(Status)|\n",
            "+---------+------------------+-------------------+---------------------+--------------------+\n",
            "| Malaysia|27.792282430213465| 0.5730706075533661|   11.192118226600986|  0.6568144499178982|\n",
            "|    India|27.976854156296664| 0.5433051269288203|   10.727227476356397|  0.6212045793927327|\n",
            "|Indonesia| 28.43159796354081| 0.5207751683363442|    9.985711939563148|  0.5422893742814913|\n",
            "|   Brazil|30.274168600154677|  0.322892498066512|    4.921113689095128|0.038669760247486466|\n",
            "+---------+------------------+-------------------+---------------------+--------------------+\n",
            "\n"
          ]
        }
      ],
      "source": [
        "df.groupBy('Country').mean().show()"
      ]
    },
    {
      "cell_type": "code",
      "execution_count": 14,
      "metadata": {
        "colab": {
          "base_uri": "https://localhost:8080/"
        },
        "id": "Vb3GZ_okpYdn",
        "outputId": "f05bb5e4-aaf9-413d-96f0-75cb21fe6a0e"
      },
      "outputs": [
        {
          "output_type": "stream",
          "name": "stdout",
          "text": [
            "+--------+------------------+-------------------+---------------------+------------------+\n",
            "|Platform|          avg(Age)|avg(Repeat_Visitor)|avg(Web_pages_viewed)|       avg(Status)|\n",
            "+--------+------------------+-------------------+---------------------+------------------+\n",
            "|   Yahoo|28.569226087838523| 0.5094837204584644|    9.599655137437875|0.5071508266558474|\n",
            "|    Bing| 28.68394495412844| 0.4720183486238532|    9.114908256880733|0.4559633027522936|\n",
            "|  Google|28.380038055699707| 0.5149628092025601|    9.804878048780488|0.5210171250648676|\n",
            "+--------+------------------+-------------------+---------------------+------------------+\n",
            "\n"
          ]
        }
      ],
      "source": [
        "df.groupBy('Platform').mean().show()"
      ]
    },
    {
      "cell_type": "code",
      "execution_count": 15,
      "metadata": {
        "colab": {
          "base_uri": "https://localhost:8080/"
        },
        "id": "PjC31P0xpYdo",
        "outputId": "284abca5-5f25-4c59-8075-7d0942766a80"
      },
      "outputs": [
        {
          "output_type": "stream",
          "name": "stdout",
          "text": [
            "+------+--------+-------------------+---------------------+-----------+\n",
            "|Status|avg(Age)|avg(Repeat_Visitor)|avg(Web_pages_viewed)|avg(Status)|\n",
            "+------+--------+-------------------+---------------------+-----------+\n",
            "|     1| 26.5435|             0.7019|              14.5617|        1.0|\n",
            "|     0| 30.5356|             0.3039|               4.5449|        0.0|\n",
            "+------+--------+-------------------+---------------------+-----------+\n",
            "\n"
          ]
        }
      ],
      "source": [
        "df.groupBy('Status').mean().show()"
      ]
    },
    {
      "cell_type": "code",
      "execution_count": 16,
      "metadata": {
        "id": "D1cakEh4pYdo"
      },
      "outputs": [],
      "source": [
        "#converting categorical data to numerical form"
      ]
    },
    {
      "cell_type": "code",
      "execution_count": 17,
      "metadata": {
        "id": "y-O72sfJpYdp"
      },
      "outputs": [],
      "source": [
        "#import required libraries\n",
        "\n",
        "from pyspark.ml.feature import StringIndexer\n"
      ]
    },
    {
      "cell_type": "code",
      "execution_count": 18,
      "metadata": {
        "id": "uw6gjM9zpYdq"
      },
      "outputs": [],
      "source": [
        "#Indexing "
      ]
    },
    {
      "cell_type": "code",
      "execution_count": 19,
      "metadata": {
        "id": "jggaKJaapYdq"
      },
      "outputs": [],
      "source": [
        "Platform_indexer = StringIndexer(inputCol=\"Platform\", outputCol=\"Platform_Num\").fit(df)\n",
        "df = Platform_indexer.transform(df)"
      ]
    },
    {
      "cell_type": "code",
      "execution_count": 20,
      "metadata": {
        "colab": {
          "base_uri": "https://localhost:8080/"
        },
        "id": "2JDLlzGFpYdr",
        "outputId": "e99271ea-0e63-4080-8c24-5f2640abe597"
      },
      "outputs": [
        {
          "output_type": "stream",
          "name": "stdout",
          "text": [
            "+-------+---+--------------+--------+----------------+------+------------+\n",
            "|Country|Age|Repeat_Visitor|Platform|Web_pages_viewed|Status|Platform_Num|\n",
            "+-------+---+--------------+--------+----------------+------+------------+\n",
            "|India  |41 |1             |Yahoo   |21              |1     |0.0         |\n",
            "|Brazil |28 |1             |Yahoo   |5               |0     |0.0         |\n",
            "|Brazil |40 |0             |Google  |3               |0     |1.0         |\n",
            "+-------+---+--------------+--------+----------------+------+------------+\n",
            "only showing top 3 rows\n",
            "\n"
          ]
        }
      ],
      "source": [
        "df.show(3,False)"
      ]
    },
    {
      "cell_type": "code",
      "execution_count": 21,
      "metadata": {
        "id": "ayzSaWBopYdr"
      },
      "outputs": [],
      "source": [
        "from pyspark.ml.feature import OneHotEncoder"
      ]
    },
    {
      "cell_type": "code",
      "execution_count": 22,
      "metadata": {
        "id": "-y-XZ6uhpYdr"
      },
      "outputs": [],
      "source": [
        "#one hot encoding\n",
        "# temp = df\n",
        "Platform_encoder = OneHotEncoder(inputCol=\"Platform_Num\", outputCol=\"Platform_Vector\")\n",
        "df1 = Platform_encoder.fit(df)\n",
        "df = df1.transform(df)"
      ]
    },
    {
      "cell_type": "code",
      "execution_count": 23,
      "metadata": {
        "id": "BlxGL0p4pYds",
        "colab": {
          "base_uri": "https://localhost:8080/"
        },
        "outputId": "da00fe00-a252-4786-95b3-7b96224d8fd3"
      },
      "outputs": [
        {
          "output_type": "stream",
          "name": "stdout",
          "text": [
            "+-------+---+--------------+--------+----------------+------+------------+---------------+\n",
            "|Country|Age|Repeat_Visitor|Platform|Web_pages_viewed|Status|Platform_Num|Platform_Vector|\n",
            "+-------+---+--------------+--------+----------------+------+------------+---------------+\n",
            "|India  |41 |1             |Yahoo   |21              |1     |0.0         |(2,[0],[1.0])  |\n",
            "|Brazil |28 |1             |Yahoo   |5               |0     |0.0         |(2,[0],[1.0])  |\n",
            "|Brazil |40 |0             |Google  |3               |0     |1.0         |(2,[1],[1.0])  |\n",
            "+-------+---+--------------+--------+----------------+------+------------+---------------+\n",
            "only showing top 3 rows\n",
            "\n"
          ]
        }
      ],
      "source": [
        "df.show(3,False)"
      ]
    },
    {
      "cell_type": "code",
      "execution_count": 24,
      "metadata": {
        "id": "OWDFeTZHpYds",
        "colab": {
          "base_uri": "https://localhost:8080/"
        },
        "outputId": "e77bbfc6-1baf-489e-dce2-20906e48064f"
      },
      "outputs": [
        {
          "output_type": "stream",
          "name": "stdout",
          "text": [
            "+--------+-----+\n",
            "|Platform|count|\n",
            "+--------+-----+\n",
            "|Yahoo   |9859 |\n",
            "|Google  |5781 |\n",
            "|Bing    |4360 |\n",
            "+--------+-----+\n",
            "\n"
          ]
        }
      ],
      "source": [
        "df.groupBy('Platform').count().orderBy('count',ascending=False).show(5,False)"
      ]
    },
    {
      "cell_type": "code",
      "execution_count": 25,
      "metadata": {
        "id": "JKYYg4MVpYdu",
        "colab": {
          "base_uri": "https://localhost:8080/"
        },
        "outputId": "c37fa439-e3b1-46b4-e1af-2e7e8534fba3"
      },
      "outputs": [
        {
          "output_type": "stream",
          "name": "stdout",
          "text": [
            "+------------+-----+\n",
            "|Platform_Num|count|\n",
            "+------------+-----+\n",
            "|0.0         |9859 |\n",
            "|1.0         |5781 |\n",
            "|2.0         |4360 |\n",
            "+------------+-----+\n",
            "\n"
          ]
        }
      ],
      "source": [
        "df.groupBy('Platform_Num').count().orderBy('count',ascending=False).show(5,False)"
      ]
    },
    {
      "cell_type": "code",
      "execution_count": 26,
      "metadata": {
        "id": "_Q5-iubhpYdu",
        "colab": {
          "base_uri": "https://localhost:8080/"
        },
        "outputId": "7767e8a6-9947-41e3-e664-45f87f7e946b"
      },
      "outputs": [
        {
          "output_type": "stream",
          "name": "stdout",
          "text": [
            "+---------------+-----+\n",
            "|Platform_Vector|count|\n",
            "+---------------+-----+\n",
            "|(2,[0],[1.0])  |9859 |\n",
            "|(2,[1],[1.0])  |5781 |\n",
            "|(2,[],[])      |4360 |\n",
            "+---------------+-----+\n",
            "\n"
          ]
        }
      ],
      "source": [
        "df.groupBy('Platform_Vector').count().orderBy('count',ascending=False).show(5,False)"
      ]
    },
    {
      "cell_type": "code",
      "execution_count": 27,
      "metadata": {
        "id": "NBbbtkKhpYdv"
      },
      "outputs": [],
      "source": [
        "country_indexer = StringIndexer(inputCol=\"Country\", outputCol=\"Country_Num\").fit(df)\n",
        "df = country_indexer.transform(df)"
      ]
    },
    {
      "cell_type": "code",
      "execution_count": 28,
      "metadata": {
        "id": "IcM8QezApYdv",
        "colab": {
          "base_uri": "https://localhost:8080/"
        },
        "outputId": "dc40c83d-13c7-499f-8a22-4d3d880d2e34"
      },
      "outputs": [
        {
          "output_type": "stream",
          "name": "stdout",
          "text": [
            "+-------+-----------+\n",
            "|Country|Country_Num|\n",
            "+-------+-----------+\n",
            "|India  |1.0        |\n",
            "|Brazil |2.0        |\n",
            "|Brazil |2.0        |\n",
            "+-------+-----------+\n",
            "only showing top 3 rows\n",
            "\n"
          ]
        }
      ],
      "source": [
        "df.select(['Country','Country_Num']).show(3,False)"
      ]
    },
    {
      "cell_type": "code",
      "source": [
        "df"
      ],
      "metadata": {
        "colab": {
          "base_uri": "https://localhost:8080/"
        },
        "id": "c0ogvayV3QVV",
        "outputId": "6a0a5f2a-b483-4444-d88c-b7b34c16dc12"
      },
      "execution_count": 29,
      "outputs": [
        {
          "output_type": "execute_result",
          "data": {
            "text/plain": [
              "DataFrame[Country: string, Age: int, Repeat_Visitor: int, Platform: string, Web_pages_viewed: int, Status: int, Platform_Num: double, Platform_Vector: vector, Country_Num: double]"
            ]
          },
          "metadata": {},
          "execution_count": 29
        }
      ]
    },
    {
      "cell_type": "code",
      "execution_count": 30,
      "metadata": {
        "id": "EJsqhdpZpYdv"
      },
      "outputs": [],
      "source": [
        "#one hot encoding\n",
        "country_encoder = OneHotEncoder(inputCol=\"Country_Num\", outputCol=\"Country_Vector\")\n",
        "df2 = country_encoder.fit(df)\n",
        "df = df2.transform(df)"
      ]
    },
    {
      "cell_type": "code",
      "execution_count": 31,
      "metadata": {
        "id": "ySEuUiQfpYdw",
        "colab": {
          "base_uri": "https://localhost:8080/"
        },
        "outputId": "c0c953a1-7bff-4188-d258-5192e970874c"
      },
      "outputs": [
        {
          "output_type": "stream",
          "name": "stdout",
          "text": [
            "+-------+-----------+--------------+\n",
            "|Country|country_Num|Country_Vector|\n",
            "+-------+-----------+--------------+\n",
            "|India  |1.0        |(3,[1],[1.0]) |\n",
            "|Brazil |2.0        |(3,[2],[1.0]) |\n",
            "|Brazil |2.0        |(3,[2],[1.0]) |\n",
            "+-------+-----------+--------------+\n",
            "only showing top 3 rows\n",
            "\n"
          ]
        }
      ],
      "source": [
        "df.select(['Country','country_Num','Country_Vector']).show(3,False)"
      ]
    },
    {
      "cell_type": "code",
      "execution_count": 32,
      "metadata": {
        "id": "clUwwtkvpYdw",
        "colab": {
          "base_uri": "https://localhost:8080/"
        },
        "outputId": "767f856e-4385-43fa-ce2f-759073123262"
      },
      "outputs": [
        {
          "output_type": "stream",
          "name": "stdout",
          "text": [
            "+---------+-----+\n",
            "|Country  |count|\n",
            "+---------+-----+\n",
            "|Indonesia|12178|\n",
            "|India    |4018 |\n",
            "|Brazil   |2586 |\n",
            "|Malaysia |1218 |\n",
            "+---------+-----+\n",
            "\n"
          ]
        }
      ],
      "source": [
        "df.groupBy('Country').count().orderBy('count',ascending=False).show(5,False)"
      ]
    },
    {
      "cell_type": "code",
      "execution_count": 33,
      "metadata": {
        "id": "HnHFv2mUpYdw",
        "colab": {
          "base_uri": "https://localhost:8080/"
        },
        "outputId": "65a3d731-8bc3-4e3d-d4eb-c1613b509505"
      },
      "outputs": [
        {
          "output_type": "stream",
          "name": "stdout",
          "text": [
            "+-----------+-----+\n",
            "|Country_Num|count|\n",
            "+-----------+-----+\n",
            "|0.0        |12178|\n",
            "|1.0        |4018 |\n",
            "|2.0        |2586 |\n",
            "|3.0        |1218 |\n",
            "+-----------+-----+\n",
            "\n"
          ]
        }
      ],
      "source": [
        "df.groupBy('Country_Num').count().orderBy('count',ascending=False).show(5,False)"
      ]
    },
    {
      "cell_type": "code",
      "execution_count": 34,
      "metadata": {
        "id": "SDp0_jx5pYdw",
        "colab": {
          "base_uri": "https://localhost:8080/"
        },
        "outputId": "57c60176-5463-4a5c-c9c7-68e85136e1c6"
      },
      "outputs": [
        {
          "output_type": "stream",
          "name": "stdout",
          "text": [
            "+--------------+-----+\n",
            "|Country_Vector|count|\n",
            "+--------------+-----+\n",
            "|(3,[0],[1.0]) |12178|\n",
            "|(3,[1],[1.0]) |4018 |\n",
            "|(3,[2],[1.0]) |2586 |\n",
            "|(3,[],[])     |1218 |\n",
            "+--------------+-----+\n",
            "\n"
          ]
        }
      ],
      "source": [
        "df.groupBy('Country_Vector').count().orderBy('count',ascending=False).show(5,False)"
      ]
    },
    {
      "cell_type": "code",
      "execution_count": 35,
      "metadata": {
        "id": "VnYbXdvFpYdy"
      },
      "outputs": [],
      "source": [
        "from pyspark.ml.feature import VectorAssembler"
      ]
    },
    {
      "cell_type": "code",
      "execution_count": 36,
      "metadata": {
        "id": "2kkQvDL8pYdy"
      },
      "outputs": [],
      "source": [
        "df_assembler = VectorAssembler(inputCols=['Age', 'Repeat_Visitor','Web_pages_viewed'], outputCol=\"features\")\n",
        "df = df_assembler.transform(df)"
      ]
    },
    {
      "cell_type": "code",
      "execution_count": 37,
      "metadata": {
        "id": "kqFE6NcJpYdz",
        "colab": {
          "base_uri": "https://localhost:8080/"
        },
        "outputId": "4b7248cb-835d-40d8-b312-92773b780010"
      },
      "outputs": [
        {
          "output_type": "stream",
          "name": "stdout",
          "text": [
            "root\n",
            " |-- Country: string (nullable = true)\n",
            " |-- Age: integer (nullable = true)\n",
            " |-- Repeat_Visitor: integer (nullable = true)\n",
            " |-- Platform: string (nullable = true)\n",
            " |-- Web_pages_viewed: integer (nullable = true)\n",
            " |-- Status: integer (nullable = true)\n",
            " |-- Platform_Num: double (nullable = false)\n",
            " |-- Platform_Vector: vector (nullable = true)\n",
            " |-- Country_Num: double (nullable = false)\n",
            " |-- Country_Vector: vector (nullable = true)\n",
            " |-- features: vector (nullable = true)\n",
            "\n"
          ]
        }
      ],
      "source": [
        "df.printSchema()"
      ]
    },
    {
      "cell_type": "code",
      "execution_count": 38,
      "metadata": {
        "id": "ExR2pzcrpYdz",
        "colab": {
          "base_uri": "https://localhost:8080/"
        },
        "outputId": "6f79b35e-999a-4bea-994c-1677f77de837"
      },
      "outputs": [
        {
          "output_type": "stream",
          "name": "stdout",
          "text": [
            "+---------------+------+\n",
            "|features       |Status|\n",
            "+---------------+------+\n",
            "|[41.0,1.0,21.0]|1     |\n",
            "|[28.0,1.0,5.0] |0     |\n",
            "|[40.0,0.0,3.0] |0     |\n",
            "|[31.0,1.0,15.0]|1     |\n",
            "|[32.0,0.0,15.0]|1     |\n",
            "|[32.0,0.0,3.0] |0     |\n",
            "|[32.0,0.0,6.0] |0     |\n",
            "|[27.0,0.0,9.0] |0     |\n",
            "|[32.0,0.0,2.0] |0     |\n",
            "|[31.0,1.0,16.0]|1     |\n",
            "+---------------+------+\n",
            "only showing top 10 rows\n",
            "\n"
          ]
        }
      ],
      "source": [
        "df.select(['features','Status']).show(10,False)"
      ]
    },
    {
      "cell_type": "code",
      "execution_count": 39,
      "metadata": {
        "id": "h8PRJ-c7pYdz"
      },
      "outputs": [],
      "source": [
        "#select data for building model\n",
        "model_df=df.select(['features','Status'])"
      ]
    },
    {
      "cell_type": "code",
      "execution_count": 40,
      "metadata": {
        "id": "gOfLrogypYd0"
      },
      "outputs": [],
      "source": [
        "from pyspark.ml.classification import LogisticRegression"
      ]
    },
    {
      "cell_type": "code",
      "execution_count": 41,
      "metadata": {
        "id": "P2f4oLdNpYd0"
      },
      "outputs": [],
      "source": [
        "#split the data \n",
        "training_df,test_df=model_df.randomSplit([0.75,0.25])"
      ]
    },
    {
      "cell_type": "code",
      "execution_count": 42,
      "metadata": {
        "id": "tp9gZccQpYd1",
        "colab": {
          "base_uri": "https://localhost:8080/"
        },
        "outputId": "0d9ed5cd-29ea-4aea-c9cc-29bf5fd1e126"
      },
      "outputs": [
        {
          "output_type": "execute_result",
          "data": {
            "text/plain": [
              "15042"
            ]
          },
          "metadata": {},
          "execution_count": 42
        }
      ],
      "source": [
        "training_df.count()"
      ]
    },
    {
      "cell_type": "code",
      "execution_count": 43,
      "metadata": {
        "id": "KGnGWUXupYd1",
        "colab": {
          "base_uri": "https://localhost:8080/"
        },
        "outputId": "4f5cb99d-bebd-480d-d76d-4ff01dad5fd8"
      },
      "outputs": [
        {
          "output_type": "stream",
          "name": "stdout",
          "text": [
            "+------+-----+\n",
            "|Status|count|\n",
            "+------+-----+\n",
            "|     1| 7542|\n",
            "|     0| 7500|\n",
            "+------+-----+\n",
            "\n"
          ]
        }
      ],
      "source": [
        "training_df.groupBy('Status').count().show()"
      ]
    },
    {
      "cell_type": "code",
      "execution_count": 44,
      "metadata": {
        "id": "eKgJnUiMpYd1",
        "colab": {
          "base_uri": "https://localhost:8080/"
        },
        "outputId": "605be91e-d730-4953-dd12-201951f50499"
      },
      "outputs": [
        {
          "output_type": "execute_result",
          "data": {
            "text/plain": [
              "4958"
            ]
          },
          "metadata": {},
          "execution_count": 44
        }
      ],
      "source": [
        "test_df.count()"
      ]
    },
    {
      "cell_type": "code",
      "execution_count": 45,
      "metadata": {
        "id": "oEwQvlIlpYd1",
        "colab": {
          "base_uri": "https://localhost:8080/"
        },
        "outputId": "d0c40266-0cc2-4113-9048-3cd37e6f2b68"
      },
      "outputs": [
        {
          "output_type": "stream",
          "name": "stdout",
          "text": [
            "+------+-----+\n",
            "|Status|count|\n",
            "+------+-----+\n",
            "|     1| 2458|\n",
            "|     0| 2500|\n",
            "+------+-----+\n",
            "\n"
          ]
        }
      ],
      "source": [
        "test_df.groupBy('Status').count().show()"
      ]
    },
    {
      "cell_type": "code",
      "execution_count": 46,
      "metadata": {
        "id": "CTVZJWaspYd2"
      },
      "outputs": [],
      "source": [
        "log_reg=LogisticRegression(labelCol='Status').fit(training_df)"
      ]
    },
    {
      "cell_type": "code",
      "execution_count": 47,
      "metadata": {
        "id": "uKLtcs0LpYd2"
      },
      "outputs": [],
      "source": [
        "#Training Results"
      ]
    },
    {
      "cell_type": "code",
      "execution_count": 48,
      "metadata": {
        "id": "sPfKUTzMpYd2",
        "colab": {
          "base_uri": "https://localhost:8080/"
        },
        "outputId": "353fc07f-7b63-455e-fe73-66377ec9f33b"
      },
      "outputs": [
        {
          "output_type": "stream",
          "name": "stderr",
          "text": [
            "/usr/local/lib/python3.7/dist-packages/pyspark/sql/context.py:127: FutureWarning: Deprecated in 3.0.0. Use SparkSession.builder.getOrCreate() instead.\n",
            "  FutureWarning\n"
          ]
        }
      ],
      "source": [
        "train_results=log_reg.evaluate(training_df).predictions"
      ]
    },
    {
      "cell_type": "code",
      "execution_count": 49,
      "metadata": {
        "id": "GFPZjXl0pYd3",
        "colab": {
          "base_uri": "https://localhost:8080/"
        },
        "outputId": "976661ab-a0a6-4a05-dc9e-2af15010d996"
      },
      "outputs": [
        {
          "output_type": "stream",
          "name": "stdout",
          "text": [
            "+------+----------+----------------------------------------+\n",
            "|Status|prediction|probability                             |\n",
            "+------+----------+----------------------------------------+\n",
            "|1     |1.0       |[0.35802508920717824,0.6419749107928218]|\n",
            "|1     |1.0       |[0.35802508920717824,0.6419749107928218]|\n",
            "|1     |1.0       |[0.35802508920717824,0.6419749107928218]|\n",
            "|1     |1.0       |[0.35802508920717824,0.6419749107928218]|\n",
            "|1     |1.0       |[0.35802508920717824,0.6419749107928218]|\n",
            "|1     |1.0       |[0.35802508920717824,0.6419749107928218]|\n",
            "|1     |1.0       |[0.2098715193203292,0.7901284806796708] |\n",
            "|1     |1.0       |[0.2098715193203292,0.7901284806796708] |\n",
            "|1     |1.0       |[0.2098715193203292,0.7901284806796708] |\n",
            "|1     |1.0       |[0.2098715193203292,0.7901284806796708] |\n",
            "+------+----------+----------------------------------------+\n",
            "only showing top 10 rows\n",
            "\n"
          ]
        }
      ],
      "source": [
        "train_results.filter(train_results['Status']==1).filter(train_results['prediction']==1).select(['Status','prediction','probability']).show(10,False)"
      ]
    },
    {
      "cell_type": "markdown",
      "metadata": {
        "id": "eo4vAnIlpYd3"
      },
      "source": [
        "Probability at 0 index is for 0 class and probabilty as 1 index is for 1 class"
      ]
    },
    {
      "cell_type": "code",
      "execution_count": 50,
      "metadata": {
        "id": "uDAf5H68pYd4"
      },
      "outputs": [],
      "source": [
        "correct_preds=train_results.filter(train_results['Status']==1).filter(train_results['prediction']==1).count()\n"
      ]
    },
    {
      "cell_type": "code",
      "execution_count": 51,
      "metadata": {
        "id": "dotHqPBbpYd4",
        "colab": {
          "base_uri": "https://localhost:8080/"
        },
        "outputId": "5a88d1e5-f3c9-4dcc-b524-fb080145baaf"
      },
      "outputs": [
        {
          "output_type": "execute_result",
          "data": {
            "text/plain": [
              "7542"
            ]
          },
          "metadata": {},
          "execution_count": 51
        }
      ],
      "source": [
        "training_df.filter(training_df['Status']==1).count()"
      ]
    },
    {
      "cell_type": "code",
      "execution_count": 52,
      "metadata": {
        "id": "3v046xVTpYd6",
        "colab": {
          "base_uri": "https://localhost:8080/"
        },
        "outputId": "25368fa9-406b-467e-fc29-9d379f945e81"
      },
      "outputs": [
        {
          "output_type": "execute_result",
          "data": {
            "text/plain": [
              "0.9277380005303633"
            ]
          },
          "metadata": {},
          "execution_count": 52
        }
      ],
      "source": [
        "#accuracy on training dataset \n",
        "float(correct_preds)/(training_df.filter(training_df['Status']==1).count())"
      ]
    },
    {
      "cell_type": "code",
      "execution_count": 53,
      "metadata": {
        "id": "x_B2E5TUpYd7"
      },
      "outputs": [],
      "source": [
        "#Test Set results"
      ]
    },
    {
      "cell_type": "code",
      "execution_count": 54,
      "metadata": {
        "id": "xwMc31NipYd8",
        "colab": {
          "base_uri": "https://localhost:8080/"
        },
        "outputId": "7c04e303-ac0a-4e33-c96f-3d6c11eb6569"
      },
      "outputs": [
        {
          "output_type": "stream",
          "name": "stderr",
          "text": [
            "/usr/local/lib/python3.7/dist-packages/pyspark/sql/context.py:127: FutureWarning: Deprecated in 3.0.0. Use SparkSession.builder.getOrCreate() instead.\n",
            "  FutureWarning\n"
          ]
        }
      ],
      "source": [
        "results=log_reg.evaluate(test_df).predictions"
      ]
    },
    {
      "cell_type": "code",
      "execution_count": 55,
      "metadata": {
        "id": "5_wc6C78pYd9",
        "colab": {
          "base_uri": "https://localhost:8080/"
        },
        "outputId": "942b8976-614d-4d2e-c297-769b48499077"
      },
      "outputs": [
        {
          "output_type": "stream",
          "name": "stdout",
          "text": [
            "+------+----------+\n",
            "|Status|prediction|\n",
            "+------+----------+\n",
            "|0     |0.0       |\n",
            "|0     |0.0       |\n",
            "|0     |0.0       |\n",
            "|0     |0.0       |\n",
            "|0     |0.0       |\n",
            "|0     |0.0       |\n",
            "|0     |0.0       |\n",
            "|0     |0.0       |\n",
            "|0     |0.0       |\n",
            "|0     |0.0       |\n",
            "+------+----------+\n",
            "only showing top 10 rows\n",
            "\n"
          ]
        }
      ],
      "source": [
        "results.select(['Status','prediction']).show(10,False)"
      ]
    },
    {
      "cell_type": "code",
      "execution_count": 56,
      "metadata": {
        "id": "_r_J-qKqpYd9",
        "colab": {
          "base_uri": "https://localhost:8080/"
        },
        "outputId": "19896ebf-1db8-4081-a116-ba8ec5636a87"
      },
      "outputs": [
        {
          "output_type": "stream",
          "name": "stdout",
          "text": [
            "root\n",
            " |-- features: vector (nullable = true)\n",
            " |-- Status: integer (nullable = true)\n",
            " |-- rawPrediction: vector (nullable = true)\n",
            " |-- probability: vector (nullable = true)\n",
            " |-- prediction: double (nullable = false)\n",
            "\n"
          ]
        }
      ],
      "source": [
        "results.printSchema()"
      ]
    },
    {
      "cell_type": "code",
      "execution_count": 57,
      "metadata": {
        "id": "79jzltsUpYd9"
      },
      "outputs": [],
      "source": [
        "from pyspark.ml.evaluation import BinaryClassificationEvaluator"
      ]
    },
    {
      "cell_type": "code",
      "execution_count": 58,
      "metadata": {
        "id": "9dAp8pJspYd9"
      },
      "outputs": [],
      "source": [
        "#confusion matrix\n",
        "true_postives = results[(results.Status == 1) & (results.prediction == 1)].count()\n",
        "true_negatives = results[(results.Status == 0) & (results.prediction == 0)].count()\n",
        "false_positives = results[(results.Status == 0) & (results.prediction == 1)].count()\n",
        "false_negatives = results[(results.Status == 1) & (results.prediction == 0)].count()"
      ]
    },
    {
      "cell_type": "code",
      "execution_count": 59,
      "metadata": {
        "id": "20mLzDYvpYd-",
        "colab": {
          "base_uri": "https://localhost:8080/"
        },
        "outputId": "7c934ba7-704f-41d7-d725-142674136b6c"
      },
      "outputs": [
        {
          "output_type": "stream",
          "name": "stdout",
          "text": [
            "2311\n",
            "2325\n",
            "175\n",
            "147\n",
            "4958\n",
            "4958\n"
          ]
        }
      ],
      "source": [
        "print (true_postives)\n",
        "print (true_negatives)\n",
        "print (false_positives)\n",
        "print (false_negatives)\n",
        "print(true_postives+true_negatives+false_positives+false_negatives)\n",
        "print (results.count())"
      ]
    },
    {
      "cell_type": "code",
      "execution_count": 60,
      "metadata": {
        "id": "PlIbMkiupYd-",
        "colab": {
          "base_uri": "https://localhost:8080/"
        },
        "outputId": "74551fe0-2b97-4148-8fd5-2271eeea45af"
      },
      "outputs": [
        {
          "output_type": "stream",
          "name": "stdout",
          "text": [
            "0.9401952807160293\n"
          ]
        }
      ],
      "source": [
        "recall = float(true_postives)/(true_postives + false_negatives)\n",
        "print(recall)"
      ]
    },
    {
      "cell_type": "code",
      "execution_count": 61,
      "metadata": {
        "id": "5mmDheWmpYd_",
        "colab": {
          "base_uri": "https://localhost:8080/"
        },
        "outputId": "3f5dea76-22b5-495b-a628-cb2719fc6302"
      },
      "outputs": [
        {
          "output_type": "stream",
          "name": "stdout",
          "text": [
            "0.9296057924376508\n"
          ]
        }
      ],
      "source": [
        "precision = float(true_postives) / (true_postives + false_positives)\n",
        "print(precision)"
      ]
    },
    {
      "cell_type": "code",
      "execution_count": 62,
      "metadata": {
        "id": "0ldp9w-cpYd_",
        "colab": {
          "base_uri": "https://localhost:8080/"
        },
        "outputId": "e930b7eb-8917-42b1-c24c-d8cced831dfc"
      },
      "outputs": [
        {
          "output_type": "stream",
          "name": "stdout",
          "text": [
            "0.9350544574425171\n"
          ]
        }
      ],
      "source": [
        "accuracy=float((true_postives+true_negatives) /(results.count()))\n",
        "print(accuracy)"
      ]
    },
    {
      "cell_type": "code",
      "execution_count": 62,
      "metadata": {
        "id": "hcMrSHvspYeA"
      },
      "outputs": [],
      "source": [
        ""
      ]
    }
  ],
  "metadata": {
    "colab": {
      "collapsed_sections": [],
      "name": "Logistic_Regression_Pyspark.ipynb",
      "provenance": []
    },
    "kernelspec": {
      "display_name": "Python 3",
      "language": "python",
      "name": "python3"
    },
    "language_info": {
      "codemirror_mode": {
        "name": "ipython",
        "version": 3
      },
      "file_extension": ".py",
      "mimetype": "text/x-python",
      "name": "python",
      "nbconvert_exporter": "python",
      "pygments_lexer": "ipython3",
      "version": "3.6.3"
    }
  },
  "nbformat": 4,
  "nbformat_minor": 0
}